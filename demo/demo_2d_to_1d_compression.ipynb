{
 "cells": [
  {
   "cell_type": "code",
   "execution_count": 1,
   "metadata": {},
   "outputs": [],
   "source": [
    "# Kornpob Bhirombhakdi\n",
    "# kbhirombhakdi@stsci.edu"
   ]
  },
  {
   "cell_type": "code",
   "execution_count": 2,
   "metadata": {},
   "outputs": [],
   "source": [
    "# don't forget to pip install axehelper\n",
    "from axehelper.axehelper_confreader import AXEhelper_ConfReader\n",
    "from axehelper.axehelper_computesip import AXEhelper_computeSIP\n"
   ]
  },
  {
   "cell_type": "code",
   "execution_count": 3,
   "metadata": {},
   "outputs": [],
   "source": [
    "conffile = '/Users/kbhirombhakdi/_work/_calib_files/ACS.WFC/ACS.WFC.CHIP1.Cycle13.5.conf'\n"
   ]
  },
  {
   "cell_type": "code",
   "execution_count": 4,
   "metadata": {},
   "outputs": [
    {
     "data": {
      "text/plain": [
       "{'BEAM': 'A',\n",
       " 'BEAMA': array(['-30', '160'], dtype='<U3'),\n",
       " 'MMAG_EXTRACT_A': array(['27'], dtype='<U2'),\n",
       " 'MMAG_MARK_A': array(['29'], dtype='<U2'),\n",
       " 'DYDX_ORDER_A': array(['1'], dtype='<U1'),\n",
       " 'XOFF_A': array(['0.0'], dtype='<U3'),\n",
       " 'YOFF_A': array(['-0.7781', '-1.32E-5', '-2.79E-4', '1.345E-8', '1.516E-7',\n",
       "        '-2.88E-9'], dtype='<U8'),\n",
       " 'DISP_ORDER_A': array(['2'], dtype='<U1'),\n",
       " 'DYDX_A_0': array(['0'], dtype='<U1'),\n",
       " 'DYDX_A_1': array(['-0.03454', '2.100E-6', '-5.42E-6', '-2.0E-10', '2.75E-10',\n",
       "        '1.92E-10'], dtype='<U8'),\n",
       " 'DLDP_A_0': array(['4787.26', '0.003893', '-0.07142', '-8.06E-7', '5.226E-7',\n",
       "        '3.040E-5'], dtype='<U8'),\n",
       " 'DLDP_A_1': array(['37.3017', '0.00184', '-2.12E-4', '-1.14E-7', '-7.94E-8',\n",
       "        '-3.94E-7'], dtype='<U8'),\n",
       " 'DLDP_A_2': array(['0.005756', '-1.88E-6', '-4.89E-6', '7.21E-10', '-1.9E-10',\n",
       "        '2.159E-9'], dtype='<U8')}"
      ]
     },
     "execution_count": 4,
     "metadata": {},
     "output_type": "execute_result"
    }
   ],
   "source": [
    "conf = AXEhelper_ConfReader(conffile)\n",
    "conf.getbeam()\n",
    "conf.beam\n"
   ]
  },
  {
   "cell_type": "code",
   "execution_count": 5,
   "metadata": {
    "scrolled": true
   },
   "outputs": [
    {
     "data": {
      "text/plain": [
       "{'DYDX_A_0': {'NORDER': 1, 'COEF': {(0, 0): 0.0}},\n",
       " 'DYDX_A_1': {'NORDER': 3,\n",
       "  'COEF': {(0, 0): -0.03454,\n",
       "   (1, 0): 2.1e-06,\n",
       "   (0, 1): -5.42e-06,\n",
       "   (2, 0): -2e-10,\n",
       "   (1, 1): 2.75e-10,\n",
       "   (0, 2): 1.92e-10}},\n",
       " 'DLDP_A_0': {'NORDER': 3,\n",
       "  'COEF': {(0, 0): 4787.26,\n",
       "   (1, 0): 0.003893,\n",
       "   (0, 1): -0.07142,\n",
       "   (2, 0): -8.06e-07,\n",
       "   (1, 1): 5.226e-07,\n",
       "   (0, 2): 3.04e-05}},\n",
       " 'DLDP_A_1': {'NORDER': 3,\n",
       "  'COEF': {(0, 0): 37.3017,\n",
       "   (1, 0): 0.00184,\n",
       "   (0, 1): -0.000212,\n",
       "   (2, 0): -1.14e-07,\n",
       "   (1, 1): -7.94e-08,\n",
       "   (0, 2): -3.94e-07}},\n",
       " 'DLDP_A_2': {'NORDER': 3,\n",
       "  'COEF': {(0, 0): 0.005756,\n",
       "   (1, 0): -1.88e-06,\n",
       "   (0, 1): -4.89e-06,\n",
       "   (2, 0): 7.21e-10,\n",
       "   (1, 1): -1.9e-10,\n",
       "   (0, 2): 2.159e-09}}}"
      ]
     },
     "execution_count": 5,
     "metadata": {},
     "output_type": "execute_result"
    }
   ],
   "source": [
    "conf.make_coef2d()\n",
    "conf.coef2d\n"
   ]
  },
  {
   "cell_type": "code",
   "execution_count": 6,
   "metadata": {
    "scrolled": true
   },
   "outputs": [
    {
     "data": {
      "text/plain": [
       "({'DYDX_A_0': {'NORDER': 1, 'COEF': {(0, 0): 0.0}},\n",
       "  'DYDX_A_1': {'NORDER': 3,\n",
       "   'COEF': {(0, 0): -0.03454,\n",
       "    (1, 0): 2.1e-06,\n",
       "    (0, 1): -5.42e-06,\n",
       "    (2, 0): -2e-10,\n",
       "    (1, 1): 2.75e-10,\n",
       "    (0, 2): 1.92e-10}},\n",
       "  'DLDP_A_0': {'NORDER': 3,\n",
       "   'COEF': {(0, 0): 4787.26,\n",
       "    (1, 0): 0.003893,\n",
       "    (0, 1): -0.07142,\n",
       "    (2, 0): -8.06e-07,\n",
       "    (1, 1): 5.226e-07,\n",
       "    (0, 2): 3.04e-05}},\n",
       "  'DLDP_A_1': {'NORDER': 3,\n",
       "   'COEF': {(0, 0): 37.3017,\n",
       "    (1, 0): 0.00184,\n",
       "    (0, 1): -0.000212,\n",
       "    (2, 0): -1.14e-07,\n",
       "    (1, 1): -7.94e-08,\n",
       "    (0, 2): -3.94e-07}},\n",
       "  'DLDP_A_2': {'NORDER': 3,\n",
       "   'COEF': {(0, 0): 0.005756,\n",
       "    (1, 0): -1.88e-06,\n",
       "    (0, 1): -4.89e-06,\n",
       "    (2, 0): 7.21e-10,\n",
       "    (1, 1): -1.9e-10,\n",
       "    (0, 2): 2.159e-09}}},\n",
       " array([400.]),\n",
       " array([500.]))"
      ]
     },
     "execution_count": 6,
     "metadata": {},
     "output_type": "execute_result"
    }
   ],
   "source": [
    "import numpy as np\n",
    "\n",
    "xref = np.array([400.])\n",
    "yref = np.array([500.])\n",
    "obj = AXEhelper_computeSIP(conf.coef2d,xref,yref)\n",
    "obj.coef2d,obj.x1,obj.x2\n"
   ]
  },
  {
   "cell_type": "code",
   "execution_count": 7,
   "metadata": {},
   "outputs": [
    {
     "data": {
      "text/plain": [
       "{'DYDX_A_0': array([0.]),\n",
       " 'DYDX_A_1': array([-0.036339]),\n",
       " 'DLDP_A_0': array([4760.68276]),\n",
       " 'DLDP_A_1': array([37.79908]),\n",
       " 'DLDP_A_2': array([0.00317611])}"
      ]
     },
     "execution_count": 7,
     "metadata": {},
     "output_type": "execute_result"
    }
   ],
   "source": [
    "obj.compress()\n",
    "obj.coef1d\n"
   ]
  },
  {
   "cell_type": "markdown",
   "metadata": {},
   "source": [
    "# Sanity Check"
   ]
  },
  {
   "cell_type": "code",
   "execution_count": 8,
   "metadata": {},
   "outputs": [
    {
     "data": {
      "text/plain": [
       "array([-0.036339])"
      ]
     },
     "execution_count": 8,
     "metadata": {},
     "output_type": "execute_result"
    }
   ],
   "source": [
    "# take DYDX_A_1\n",
    "tmp = -0.03454 + 2.1e-06*xref + -5.42e-06*yref\n",
    "tmp += -2e-10*xref**2 + 2.75e-10*xref*yref + 1.92e-10*yref**2\n",
    "tmp\n"
   ]
  },
  {
   "cell_type": "code",
   "execution_count": null,
   "metadata": {},
   "outputs": [],
   "source": []
  }
 ],
 "metadata": {
  "kernelspec": {
   "display_name": "Python 3",
   "language": "python",
   "name": "python3"
  },
  "language_info": {
   "codemirror_mode": {
    "name": "ipython",
    "version": 3
   },
   "file_extension": ".py",
   "mimetype": "text/x-python",
   "name": "python",
   "nbconvert_exporter": "python",
   "pygments_lexer": "ipython3",
   "version": "3.7.4"
  }
 },
 "nbformat": 4,
 "nbformat_minor": 4
}
